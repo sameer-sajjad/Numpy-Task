{
 "cells": [
  {
   "cell_type": "markdown",
   "id": "91196512",
   "metadata": {},
   "source": [
    "# Second Task Solution"
   ]
  },
  {
   "cell_type": "code",
   "execution_count": null,
   "id": "444c1ad2",
   "metadata": {},
   "outputs": [],
   "source": [
    "# Import the numpy package under the name np\n",
    "import numpy as np"
   ]
  },
  {
   "cell_type": "code",
   "execution_count": 55,
   "id": "d5803ae3",
   "metadata": {},
   "outputs": [
    {
     "name": "stdout",
     "output_type": "stream",
     "text": [
      "1.20.3\n",
      "blas_mkl_info:\n",
      "    libraries = ['mkl_rt']\n",
      "    library_dirs = ['C:/Users/SAM Chaudhry/anaconda3/env\\\\Library\\\\lib']\n",
      "    define_macros = [('SCIPY_MKL_H', None), ('HAVE_CBLAS', None)]\n",
      "    include_dirs = ['C:/Users/SAM Chaudhry/anaconda3/env\\\\Library\\\\include']\n",
      "blas_opt_info:\n",
      "    libraries = ['mkl_rt']\n",
      "    library_dirs = ['C:/Users/SAM Chaudhry/anaconda3/env\\\\Library\\\\lib']\n",
      "    define_macros = [('SCIPY_MKL_H', None), ('HAVE_CBLAS', None)]\n",
      "    include_dirs = ['C:/Users/SAM Chaudhry/anaconda3/env\\\\Library\\\\include']\n",
      "lapack_mkl_info:\n",
      "    libraries = ['mkl_rt']\n",
      "    library_dirs = ['C:/Users/SAM Chaudhry/anaconda3/env\\\\Library\\\\lib']\n",
      "    define_macros = [('SCIPY_MKL_H', None), ('HAVE_CBLAS', None)]\n",
      "    include_dirs = ['C:/Users/SAM Chaudhry/anaconda3/env\\\\Library\\\\include']\n",
      "lapack_opt_info:\n",
      "    libraries = ['mkl_rt']\n",
      "    library_dirs = ['C:/Users/SAM Chaudhry/anaconda3/env\\\\Library\\\\lib']\n",
      "    define_macros = [('SCIPY_MKL_H', None), ('HAVE_CBLAS', None)]\n",
      "    include_dirs = ['C:/Users/SAM Chaudhry/anaconda3/env\\\\Library\\\\include']\n",
      "None\n"
     ]
    }
   ],
   "source": [
    "#Print the numpy version and the configuration\n",
    "print(np.__version__)\n",
    "print(np.show_config())"
   ]
  },
  {
   "cell_type": "code",
   "execution_count": 64,
   "id": "23f5074e",
   "metadata": {},
   "outputs": [
    {
     "name": "stdout",
     "output_type": "stream",
     "text": [
      "[[0. 0.]\n",
      " [0. 0.]\n",
      " [0. 0.]\n",
      " [0. 0.]\n",
      " [0. 0.]]\n"
     ]
    }
   ],
   "source": [
    "# Create a null vector of size 10\n",
    "vec = np.zeros(10).reshape(5,2)\n",
    "print(vec)"
   ]
  },
  {
   "cell_type": "code",
   "execution_count": 69,
   "id": "26978cfa",
   "metadata": {},
   "outputs": [
    {
     "name": "stdout",
     "output_type": "stream",
     "text": [
      "[[ 0  1  2  3]\n",
      " [ 4  5  6  7]\n",
      " [ 8  9 10 11]\n",
      " [12 13 14 15]]\n",
      "The size of array is: 16\n",
      "The memory size of one array element is : 4\n",
      "The memory size of numpy array element is : 64\n"
     ]
    }
   ],
   "source": [
    "#How to find the memory size of any array\n",
    "b = np.arange(16).reshape(4,4)\n",
    "print(b)\n",
    "print(\"The size of array is:\",b.size)\n",
    "print(\"The memory size of one array element is :\", b.itemsize)\n",
    "print(\"The memory size of numpy array element is :\", b.size * b.itemsize)\n"
   ]
  },
  {
   "cell_type": "code",
   "execution_count": 71,
   "id": "837432b4",
   "metadata": {},
   "outputs": [
    {
     "name": "stdout",
     "output_type": "stream",
     "text": [
      "add(x1, x2, /, out=None, *, where=True, casting='same_kind', order='K', dtype=None, subok=True[, signature, extobj])\n",
      "\n",
      "Add arguments element-wise.\n",
      "\n",
      "Parameters\n",
      "----------\n",
      "x1, x2 : array_like\n",
      "    The arrays to be added.\n",
      "    If ``x1.shape != x2.shape``, they must be broadcastable to a common\n",
      "    shape (which becomes the shape of the output).\n",
      "out : ndarray, None, or tuple of ndarray and None, optional\n",
      "    A location into which the result is stored. If provided, it must have\n",
      "    a shape that the inputs broadcast to. If not provided or None,\n",
      "    a freshly-allocated array is returned. A tuple (possible only as a\n",
      "    keyword argument) must have length equal to the number of outputs.\n",
      "where : array_like, optional\n",
      "    This condition is broadcast over the input. At locations where the\n",
      "    condition is True, the `out` array will be set to the ufunc result.\n",
      "    Elsewhere, the `out` array will retain its original value.\n",
      "    Note that if an uninitialized `out` array is created via the default\n",
      "    ``out=None``, locations within it where the condition is False will\n",
      "    remain uninitialized.\n",
      "**kwargs\n",
      "    For other keyword-only arguments, see the\n",
      "    :ref:`ufunc docs <ufuncs.kwargs>`.\n",
      "\n",
      "Returns\n",
      "-------\n",
      "add : ndarray or scalar\n",
      "    The sum of `x1` and `x2`, element-wise.\n",
      "    This is a scalar if both `x1` and `x2` are scalars.\n",
      "\n",
      "Notes\n",
      "-----\n",
      "Equivalent to `x1` + `x2` in terms of array broadcasting.\n",
      "\n",
      "Examples\n",
      "--------\n",
      ">>> np.add(1.0, 4.0)\n",
      "5.0\n",
      ">>> x1 = np.arange(9.0).reshape((3, 3))\n",
      ">>> x2 = np.arange(3.0)\n",
      ">>> np.add(x1, x2)\n",
      "array([[  0.,   2.,   4.],\n",
      "       [  3.,   5.,   7.],\n",
      "       [  6.,   8.,  10.]])\n",
      "\n",
      "The ``+`` operator can be used as a shorthand for ``np.add`` on ndarrays.\n",
      "\n",
      ">>> x1 = np.arange(9.0).reshape((3, 3))\n",
      ">>> x2 = np.arange(3.0)\n",
      ">>> x1 + x2\n",
      "array([[ 0.,  2.,  4.],\n",
      "       [ 3.,  5.,  7.],\n",
      "       [ 6.,  8., 10.]])\n",
      "None\n"
     ]
    }
   ],
   "source": [
    "#How to get the documentation of the numpy add function from the command line?\n",
    "print(np.info(np.add))"
   ]
  },
  {
   "cell_type": "code",
   "execution_count": 80,
   "id": "0e3fda57",
   "metadata": {},
   "outputs": [
    {
     "name": "stdout",
     "output_type": "stream",
     "text": [
      "[0. 0. 0. 0. 0. 1. 0. 0. 0. 0.]\n"
     ]
    }
   ],
   "source": [
    "#Create a null vector of size 10 but the fifth value which is 1\n",
    "b = np.zeros(10)\n",
    "b[5] =1\n",
    "print(b)"
   ]
  },
  {
   "cell_type": "code",
   "execution_count": 82,
   "id": "5fd24524",
   "metadata": {},
   "outputs": [
    {
     "name": "stdout",
     "output_type": "stream",
     "text": [
      "[10 11 12 13 14 15 16 17 18 19 20 21 22 23 24 25 26 27 28 29 30 31 32 33\n",
      " 34 35 36 37 38 39 40 41 42 43 44 45 46 47 48]\n"
     ]
    }
   ],
   "source": [
    "#Create a vector with values ranging from 10 to 49\n",
    "b = np.arange(10,49)\n",
    "print(b)"
   ]
  },
  {
   "cell_type": "code",
   "execution_count": 93,
   "id": "b8250750",
   "metadata": {},
   "outputs": [
    {
     "name": "stdout",
     "output_type": "stream",
     "text": [
      "[48 47 46 45 44 43 42 41 40 39 38 37 36 35 34 33 32 31 30 29 28 27 26 25\n",
      " 24 23 22 21 20 19 18 17 16 15 14 13 12 11]\n"
     ]
    }
   ],
   "source": [
    "#Reverse a vector (first element becomes last) \n",
    "print(b[49:0:-1])"
   ]
  },
  {
   "cell_type": "code",
   "execution_count": 96,
   "id": "6ae11e45",
   "metadata": {},
   "outputs": [
    {
     "name": "stdout",
     "output_type": "stream",
     "text": [
      "[[0 1 2]\n",
      " [3 4 5]\n",
      " [6 7 8]]\n"
     ]
    }
   ],
   "source": [
    "# Create a 3x3 matrix with values ranging from 0 to 8\n",
    "mat = np.arange(9).reshape(3,3)\n",
    "print(mat)\n",
    "\n"
   ]
  },
  {
   "cell_type": "code",
   "execution_count": 101,
   "id": "9b8e7765",
   "metadata": {},
   "outputs": [
    {
     "name": "stdout",
     "output_type": "stream",
     "text": [
      "(array([0, 1, 4], dtype=int64),)\n"
     ]
    }
   ],
   "source": [
    "# Find indices of non-zero elements from [1,2,0,0,4,0]\n",
    "array_ind = np.array([1,2,0,0,4,0])\n",
    "result = np.where(array_ind != 0 )\n",
    "print(result)\n"
   ]
  },
  {
   "cell_type": "code",
   "execution_count": 117,
   "id": "901eac8c",
   "metadata": {},
   "outputs": [
    {
     "name": "stdout",
     "output_type": "stream",
     "text": [
      "The Identity Matrix is here:\n",
      " [[1. 0. 0.]\n",
      " [0. 1. 0.]\n",
      " [0. 0. 1.]]\n"
     ]
    }
   ],
   "source": [
    "#Create a 3x3 identity matrix \n",
    "mat = np.zeros(9).reshape(3,3)\n",
    "mat[0,0]= 1\n",
    "mat[1,1] = 1\n",
    "mat[2,2] = 1\n",
    "print(\"The Identity Matrix is here:\\n\", mat)"
   ]
  },
  {
   "cell_type": "code",
   "execution_count": 122,
   "id": "6a5d62de",
   "metadata": {},
   "outputs": [
    {
     "name": "stdout",
     "output_type": "stream",
     "text": [
      "The '3D' array with random values is :\n",
      "  [[[80 15 16]\n",
      "  [94 27 21]\n",
      "  [15 21 65]]\n",
      "\n",
      " [[70 25 40]\n",
      "  [55 96 68]\n",
      "  [22 50 80]]\n",
      "\n",
      " [[ 8 52 75]\n",
      "  [28  9 26]\n",
      "  [44 91  4]]]\n"
     ]
    }
   ],
   "source": [
    "#Create a 3x3x3 array with random values \n",
    "array_ran = np.random.randint(0,100,(3,3,3), dtype=\"i\")\n",
    "print(\"The '3D' array with random values is :\\n \",array_ran)"
   ]
  },
  {
   "cell_type": "code",
   "execution_count": 126,
   "id": "5fc4f0bd",
   "metadata": {},
   "outputs": [
    {
     "name": "stdout",
     "output_type": "stream",
     "text": [
      "The '2D' array with random values is :\n",
      "  [[955 253 793 599 862 378 881 672 698 711]\n",
      " [329 290 602 575   5 866 313 410  86 369]\n",
      " [107 432 788  32 972 653  76 353 253 206]\n",
      " [871 944 243 249 263 801  55 601 984 162]\n",
      " [566 650 487 743 556 841 140 717 277 300]\n",
      " [549 847 372 726 139 316 734 608  73 260]\n",
      " [468 519 294 797 443 141  95 654 842 136]\n",
      " [744 227 681 656 715 415 830  69 645 963]\n",
      " [133 250 348  34 210 941 948 798 608 379]\n",
      " [489 306 642 823 473 331 623 610 335 920]]\n",
      "The maximum value in the given array is:  984\n",
      "The minimum value in the given array is:  5\n"
     ]
    }
   ],
   "source": [
    " #Create a 10x10 array with random values and find the minimum and maximum values\n",
    "array_ran = np.random.randint(0,1000,(10,10), dtype=\"int64\")\n",
    "print(\"The '2D' array with random values is :\\n \",array_ran)\n",
    "maxi = array_ran.max()\n",
    "mini = array_ran.min()\n",
    "print(\"The maximum value in the given array is: \", maxi)\n",
    "print(\"The minimum value in the given array is: \", mini)\n",
    "\n"
   ]
  },
  {
   "cell_type": "code",
   "execution_count": 151,
   "id": "da3288d4",
   "metadata": {},
   "outputs": [
    {
     "name": "stdout",
     "output_type": "stream",
     "text": [
      "[2 0 7 2 4 3 4 0 6 2 4 8 8 1 3 8 5 7 7 8 0 3 2 8 5 0 0 6 8 9]\n",
      "4.333333333333333\n"
     ]
    }
   ],
   "source": [
    "#Create a random vector of size 30 and find the mean value\n",
    "vec = np.random.randint(0,10,(30), dtype=\"int32\")\n",
    "print(vec)\n",
    "vec = np.mean(vec)\n",
    "print(vec)"
   ]
  },
  {
   "cell_type": "code",
   "execution_count": 226,
   "id": "7b9768c4",
   "metadata": {},
   "outputs": [
    {
     "name": "stdout",
     "output_type": "stream",
     "text": [
      "[[1. 1. 1. 1.]\n",
      " [1. 0. 0. 1.]\n",
      " [1. 0. 0. 1.]\n",
      " [1. 1. 1. 1.]]\n"
     ]
    }
   ],
   "source": [
    "#Create a 2d array with 1 on the border and 0 inside\n",
    "arr_zero = np.ones(16).reshape(4,4)\n",
    "arr_zero[1:-1, 1:-1] = 0\n",
    "print(arr_zero)"
   ]
  },
  {
   "cell_type": "markdown",
   "id": "0de47cd4",
   "metadata": {},
   "source": [
    "# "
   ]
  }
 ],
 "metadata": {
  "kernelspec": {
   "display_name": "Python 3 (ipykernel)",
   "language": "python",
   "name": "python3"
  },
  "language_info": {
   "codemirror_mode": {
    "name": "ipython",
    "version": 3
   },
   "file_extension": ".py",
   "mimetype": "text/x-python",
   "name": "python",
   "nbconvert_exporter": "python",
   "pygments_lexer": "ipython3",
   "version": "3.9.7"
  }
 },
 "nbformat": 4,
 "nbformat_minor": 5
}
