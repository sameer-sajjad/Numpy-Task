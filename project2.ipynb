{
 "cells": [
  {
   "cell_type": "code",
   "execution_count": null,
   "id": "64ab4453",
   "metadata": {},
   "outputs": [],
   "source": [
    "This is a collection of exercises that have been collected in the numpy mailing list, on stack overflow and in \n",
    "the numpy documentation. \n",
    "The goal of this collection is to offer a quick reference for both old and new users but also to provide a set of \n",
    "exercises for those who teach.\n",
    "\n",
    "File automatically generated. See the documentation to update questions/answers/hints programmatically.\n"
   ]
  },
  {
   "cell_type": "code",
   "execution_count": null,
   "id": "5061d571",
   "metadata": {},
   "outputs": [],
   "source": [
    "1. Import the numpy package under the name np"
   ]
  },
  {
   "cell_type": "code",
   "execution_count": null,
   "id": "3bc0ed1b",
   "metadata": {},
   "outputs": [],
   "source": []
  },
  {
   "cell_type": "code",
   "execution_count": null,
   "id": "884b6b45",
   "metadata": {},
   "outputs": [],
   "source": [
    "2. Print the numpy version and the configuration"
   ]
  },
  {
   "cell_type": "code",
   "execution_count": null,
   "id": "6de8cd9a",
   "metadata": {},
   "outputs": [],
   "source": []
  },
  {
   "cell_type": "code",
   "execution_count": null,
   "id": "95248bdc",
   "metadata": {},
   "outputs": [],
   "source": [
    "3. Create a null vector of size 10"
   ]
  },
  {
   "cell_type": "code",
   "execution_count": null,
   "id": "14d95d0b",
   "metadata": {},
   "outputs": [],
   "source": []
  },
  {
   "cell_type": "code",
   "execution_count": null,
   "id": "e5a91c8a",
   "metadata": {},
   "outputs": [],
   "source": [
    "4. How to find the memory size of any array"
   ]
  },
  {
   "cell_type": "code",
   "execution_count": null,
   "id": "516e0160",
   "metadata": {},
   "outputs": [],
   "source": []
  },
  {
   "cell_type": "code",
   "execution_count": null,
   "id": "5a53ac57",
   "metadata": {},
   "outputs": [],
   "source": [
    "5. How to get the documentation of the numpy add function from the command line?"
   ]
  },
  {
   "cell_type": "code",
   "execution_count": null,
   "id": "d0a4fbda",
   "metadata": {},
   "outputs": [],
   "source": []
  },
  {
   "cell_type": "code",
   "execution_count": null,
   "id": "38c2eae2",
   "metadata": {},
   "outputs": [],
   "source": [
    "6. Create a null vector of size 10 but the fifth value which is 1"
   ]
  },
  {
   "cell_type": "code",
   "execution_count": null,
   "id": "72d15e44",
   "metadata": {},
   "outputs": [],
   "source": []
  },
  {
   "cell_type": "code",
   "execution_count": null,
   "id": "804a2400",
   "metadata": {},
   "outputs": [],
   "source": [
    "7. Create a vector with values ranging from 10 to 49"
   ]
  },
  {
   "cell_type": "code",
   "execution_count": null,
   "id": "d6958318",
   "metadata": {},
   "outputs": [],
   "source": []
  },
  {
   "cell_type": "code",
   "execution_count": null,
   "id": "fef69413",
   "metadata": {},
   "outputs": [],
   "source": [
    "8. Reverse a vector (first element becomes last) "
   ]
  },
  {
   "cell_type": "code",
   "execution_count": null,
   "id": "42ad8b59",
   "metadata": {},
   "outputs": [],
   "source": []
  },
  {
   "cell_type": "code",
   "execution_count": null,
   "id": "7c586e3f",
   "metadata": {},
   "outputs": [],
   "source": [
    "9. Create a 3x3 matrix with values ranging from 0 to 8"
   ]
  },
  {
   "cell_type": "code",
   "execution_count": null,
   "id": "df44e016",
   "metadata": {},
   "outputs": [],
   "source": []
  },
  {
   "cell_type": "code",
   "execution_count": null,
   "id": "65a32762",
   "metadata": {},
   "outputs": [],
   "source": [
    "10. Find indices of non-zero elements from [1,2,0,0,4,0]"
   ]
  },
  {
   "cell_type": "code",
   "execution_count": null,
   "id": "f4a46721",
   "metadata": {},
   "outputs": [],
   "source": []
  },
  {
   "cell_type": "code",
   "execution_count": null,
   "id": "721e1265",
   "metadata": {},
   "outputs": [],
   "source": [
    "11. Create a 3x3 identity matrix "
   ]
  },
  {
   "cell_type": "code",
   "execution_count": null,
   "id": "b0ca6527",
   "metadata": {},
   "outputs": [],
   "source": []
  },
  {
   "cell_type": "code",
   "execution_count": null,
   "id": "7b676156",
   "metadata": {},
   "outputs": [],
   "source": [
    "12. Create a 3x3x3 array with random values "
   ]
  },
  {
   "cell_type": "code",
   "execution_count": null,
   "id": "6da666da",
   "metadata": {},
   "outputs": [],
   "source": []
  },
  {
   "cell_type": "code",
   "execution_count": null,
   "id": "8f3bd40b",
   "metadata": {},
   "outputs": [],
   "source": [
    "13. Create a 10x10 array with random values and find the minimum and maximum values"
   ]
  },
  {
   "cell_type": "code",
   "execution_count": null,
   "id": "2dbf5b7b",
   "metadata": {},
   "outputs": [],
   "source": []
  },
  {
   "cell_type": "code",
   "execution_count": null,
   "id": "0b96a6ca",
   "metadata": {},
   "outputs": [],
   "source": [
    "14. Create a random vector of size 30 and find the mean value "
   ]
  },
  {
   "cell_type": "code",
   "execution_count": null,
   "id": "f99eaa04",
   "metadata": {},
   "outputs": [],
   "source": []
  },
  {
   "cell_type": "code",
   "execution_count": null,
   "id": "30c15f96",
   "metadata": {},
   "outputs": [],
   "source": [
    "15. Create a 2d array with 1 on the border and 0 inside"
   ]
  },
  {
   "cell_type": "code",
   "execution_count": null,
   "id": "b9014acc",
   "metadata": {},
   "outputs": [],
   "source": []
  },
  {
   "cell_type": "code",
   "execution_count": null,
   "id": "c3f69d8f",
   "metadata": {},
   "outputs": [],
   "source": []
  }
 ],
 "metadata": {
  "kernelspec": {
   "display_name": "Python 3 (ipykernel)",
   "language": "python",
   "name": "python3"
  },
  "language_info": {
   "codemirror_mode": {
    "name": "ipython",
    "version": 3
   },
   "file_extension": ".py",
   "mimetype": "text/x-python",
   "name": "python",
   "nbconvert_exporter": "python",
   "pygments_lexer": "ipython3",
   "version": "3.9.7"
  }
 },
 "nbformat": 4,
 "nbformat_minor": 5
}
